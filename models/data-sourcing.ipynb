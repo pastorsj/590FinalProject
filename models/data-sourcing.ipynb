{
 "cells": [
  {
   "cell_type": "markdown",
   "metadata": {},
   "source": [
    "# Source the image data"
   ]
  },
  {
   "cell_type": "code",
   "execution_count": null,
   "metadata": {},
   "outputs": [],
   "source": [
    "import requests\n",
    "from tqdm.auto import tqdm\n",
    "\n",
    "\n",
    "data_url = \"https://api.zindi.africa/v1/competitions/wadhwani-ai-bollworm-counting-challenge/files/images.zip\" # url\n",
    "token = {'auth_token': 'yY1UdvKbVe3UhpErRbiPuceZ'} # Use your own token\n",
    "\n",
    "def zindi_data_downloader(url, token, file_name):\n",
    "    # Get the competition data\n",
    "    competition_data = requests.post(url = data_url, data= token, stream=True)\n",
    "    \n",
    "    # Progress bar monitor download\n",
    "    pbar = tqdm(desc=file_name, total=int(competition_data.headers.get('content-length', 0)), unit='B', unit_scale=True, unit_divisor=512)\n",
    "    # Create and Write the data to colab drive in chunks\n",
    "    handle = open(file_name, \"wb\")\n",
    "    for chunk in competition_data.iter_content(chunk_size=512): # Download the data in chunks\n",
    "        if chunk: # filter out keep-alive new chunks\n",
    "                handle.write(chunk)\n",
    "        pbar.update(len(chunk))\n",
    "    handle.close()\n",
    "    pbar.close()\n",
    "\n",
    "zindi_data_downloader(url = data_url, token = token, file_name = '../data/images.zip')\n"
   ]
  }
 ],
 "metadata": {
  "kernelspec": {
   "display_name": "Python 3.9.13 ('nlp')",
   "language": "python",
   "name": "python3"
  },
  "language_info": {
   "name": "python",
   "version": "3.9.13"
  },
  "orig_nbformat": 4,
  "vscode": {
   "interpreter": {
    "hash": "8869554c2df41533e161d2a767d82e0a2352f547309fff6a28adf765944d6958"
   }
  }
 },
 "nbformat": 4,
 "nbformat_minor": 2
}
